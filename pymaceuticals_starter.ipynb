{
 "cells": [
  {
   "cell_type": "code",
   "execution_count": null,
   "metadata": {},
   "outputs": [],
   "source": [
    "#Observations\n",
    "#1. For Capomulin treated mice, higher weight had a positive correlation with higher tumor volume\n",
    "#2. For Capomulin treated mice, there was a strong correlation between time passed and lower tumor volume\n",
    "#3. Placebo treatment resulted in very similiar tumor volume to several other treatments."
   ]
  },
  {
   "cell_type": "code",
   "execution_count": null,
   "metadata": {},
   "outputs": [],
   "source": [
    "# Dependencies and Setup\n",
    "import matplotlib.pyplot as plt\n",
    "import pandas as pd\n",
    "import numpy as np\n",
    "import scipy.stats as st\n",
    "\n",
    "# Study data files\n",
    "mouse_metadata_path = \"../data/Mouse_metadata.csv\"\n",
    "study_results_path = \"../data/Study_results.csv\"\n",
    "\n",
    "# Read the mouse data and the study results\n",
    "mouse_metadata = pd.read_csv(mouse_metadata_path)\n",
    "study_results = pd.read_csv(study_results_path)\n",
    "\n",
    "# Combine the data into a single dataset\n",
    "dataset = pd.merge(mouse_metadata, study_results, how='left', on=['Mouse ID', 'Mouse ID'])\n",
    "\n",
    "# Display the data table for preview\n",
    "dataset.head()"
   ]
  },
  {
   "cell_type": "code",
   "execution_count": null,
   "metadata": {
    "tags": []
   },
   "outputs": [],
   "source": [
    "# Checking the number of mice.\n",
    "unique_mice = dataset['Mouse ID'].nunique()\n",
    "mice_count = len(dataset['Mouse ID'])\n",
    "print(f'{mice_count} total records with {unique_mice} unique Mouse IDs')"
   ]
  },
  {
   "cell_type": "code",
   "execution_count": null,
   "metadata": {},
   "outputs": [],
   "source": [
    "# Getting the duplicate mice by ID number that shows up for Mouse ID and Timepoint. \n",
    "dataset_dupes = dataset[dataset.duplicated(['Mouse ID', 'Timepoint'])]\n",
    "dataset_dupes"
   ]
  },
  {
   "cell_type": "code",
   "execution_count": null,
   "metadata": {},
   "outputs": [],
   "source": [
    "# Create a clean DataFrame by dropping the duplicate mouse by its ID.\n",
    "clean_data = dataset.drop_duplicates(['Mouse ID', 'Timepoint'])\n",
    "clean_data.head()"
   ]
  },
  {
   "cell_type": "code",
   "execution_count": null,
   "metadata": {
    "tags": []
   },
   "outputs": [],
   "source": [
    "# Checking the number of mice in the clean DataFrame.\n",
    "print(f\"{len(clean_data['Mouse ID'])} total records with {clean_data['Mouse ID'].nunique()} unique Mouse IDs\")"
   ]
  },
  {
   "cell_type": "markdown",
   "metadata": {},
   "source": [
    "## Summary Statistics"
   ]
  },
  {
   "cell_type": "code",
   "execution_count": null,
   "metadata": {},
   "outputs": [],
   "source": [
    "# Generate a summary statistics table of mean, median, variance, standard deviation, and SEM of the tumor volume for each regimen\n",
    "# This method is the most straighforward, creating multiple series and putting them all together at the end.\n",
    "summary_statistics = pd.DataFrame({\n",
    "    'Mean': clean_data.groupby('Drug Regimen')['Tumor Volume (mm3)'].mean(), \n",
    "    'Median': clean_data.groupby('Drug Regimen')['Tumor Volume (mm3)'].median(), \n",
    "    'Variance': clean_data.groupby('Drug Regimen')['Tumor Volume (mm3)'].var(),\n",
    "    'Standard Error': clean_data.groupby('Drug Regimen')['Tumor Volume (mm3)'].std(), \n",
    "    'SEM': clean_data.groupby('Drug Regimen')['Tumor Volume (mm3)'].sem()\n",
    "})\n",
    "summary_statistics"
   ]
  },
  {
   "cell_type": "markdown",
   "metadata": {},
   "source": [
    "## Bar and Pie Charts"
   ]
  },
  {
   "cell_type": "code",
   "execution_count": 51,
   "metadata": {},
   "outputs": [
    {
     "output_type": "execute_result",
     "data": {
      "text/plain": "  Mouse ID  Timepoint Drug Regimen     Sex  Age_months  Weight (g)  \\\n0     a203         45    Infubinol  Female          20          23   \n1     a251         45    Infubinol  Female          21          25   \n2     a275         45     Ceftamin  Female          20          28   \n3     a411         45     Ramicane    Male           3          22   \n4     a444         45     Ramicane  Female          10          25   \n5     a520         45     Ramicane    Male          13          21   \n6     a577         30    Infubinol  Female           6          25   \n7     a644         45     Ramicane  Female           7          17   \n8     a685         45    Infubinol    Male           8          30   \n9     b128         45    Capomulin  Female           9          22   \n\n   Tumor Volume (mm3)  Metastatic Sites  \n0           67.973419                 2  \n1           65.525743                 1  \n2           62.999356                 3  \n3           38.407618                 1  \n4           43.047543                 0  \n5           38.810366                 1  \n6           57.031862                 2  \n7           32.978522                 1  \n8           66.083066                 3  \n9           38.982878                 2  ",
      "text/html": "<div>\n<style scoped>\n    .dataframe tbody tr th:only-of-type {\n        vertical-align: middle;\n    }\n\n    .dataframe tbody tr th {\n        vertical-align: top;\n    }\n\n    .dataframe thead th {\n        text-align: right;\n    }\n</style>\n<table border=\"1\" class=\"dataframe\">\n  <thead>\n    <tr style=\"text-align: right;\">\n      <th></th>\n      <th>Mouse ID</th>\n      <th>Timepoint</th>\n      <th>Drug Regimen</th>\n      <th>Sex</th>\n      <th>Age_months</th>\n      <th>Weight (g)</th>\n      <th>Tumor Volume (mm3)</th>\n      <th>Metastatic Sites</th>\n    </tr>\n  </thead>\n  <tbody>\n    <tr>\n      <th>0</th>\n      <td>a203</td>\n      <td>45</td>\n      <td>Infubinol</td>\n      <td>Female</td>\n      <td>20</td>\n      <td>23</td>\n      <td>67.973419</td>\n      <td>2</td>\n    </tr>\n    <tr>\n      <th>1</th>\n      <td>a251</td>\n      <td>45</td>\n      <td>Infubinol</td>\n      <td>Female</td>\n      <td>21</td>\n      <td>25</td>\n      <td>65.525743</td>\n      <td>1</td>\n    </tr>\n    <tr>\n      <th>2</th>\n      <td>a275</td>\n      <td>45</td>\n      <td>Ceftamin</td>\n      <td>Female</td>\n      <td>20</td>\n      <td>28</td>\n      <td>62.999356</td>\n      <td>3</td>\n    </tr>\n    <tr>\n      <th>3</th>\n      <td>a411</td>\n      <td>45</td>\n      <td>Ramicane</td>\n      <td>Male</td>\n      <td>3</td>\n      <td>22</td>\n      <td>38.407618</td>\n      <td>1</td>\n    </tr>\n    <tr>\n      <th>4</th>\n      <td>a444</td>\n      <td>45</td>\n      <td>Ramicane</td>\n      <td>Female</td>\n      <td>10</td>\n      <td>25</td>\n      <td>43.047543</td>\n      <td>0</td>\n    </tr>\n    <tr>\n      <th>5</th>\n      <td>a520</td>\n      <td>45</td>\n      <td>Ramicane</td>\n      <td>Male</td>\n      <td>13</td>\n      <td>21</td>\n      <td>38.810366</td>\n      <td>1</td>\n    </tr>\n    <tr>\n      <th>6</th>\n      <td>a577</td>\n      <td>30</td>\n      <td>Infubinol</td>\n      <td>Female</td>\n      <td>6</td>\n      <td>25</td>\n      <td>57.031862</td>\n      <td>2</td>\n    </tr>\n    <tr>\n      <th>7</th>\n      <td>a644</td>\n      <td>45</td>\n      <td>Ramicane</td>\n      <td>Female</td>\n      <td>7</td>\n      <td>17</td>\n      <td>32.978522</td>\n      <td>1</td>\n    </tr>\n    <tr>\n      <th>8</th>\n      <td>a685</td>\n      <td>45</td>\n      <td>Infubinol</td>\n      <td>Male</td>\n      <td>8</td>\n      <td>30</td>\n      <td>66.083066</td>\n      <td>3</td>\n    </tr>\n    <tr>\n      <th>9</th>\n      <td>b128</td>\n      <td>45</td>\n      <td>Capomulin</td>\n      <td>Female</td>\n      <td>9</td>\n      <td>22</td>\n      <td>38.982878</td>\n      <td>2</td>\n    </tr>\n  </tbody>\n</table>\n</div>"
     },
     "metadata": {},
     "execution_count": 51
    }
   ],
   "source": [
    "# Calculate the final tumor volume of each mouse across four of the treatment regimens:  \n",
    "# Capomulin, Ramicane, Infubinol, and Ceftamin\n",
    "treatment_options = ['Capomulin', 'Ramicane', 'Infubinol', 'Ceftamin']\n",
    "tumor_data = clean_data.loc[clean_data['Drug Regimen'].isin(treatment_options)].reset_index()\n",
    "# Start by getting the last (greatest) timepoint for each mouse\n",
    "last_timepoint = tumor_data.groupby('Mouse ID')['Timepoint'].max().reset_index()\n",
    "last_timepoint\n",
    "# Merge this group df with the original dataframe to get the tumor volume at the last timepoint\n",
    "merge_mouse = pd.merge(last_timepoint, clean_data, how='left', on=['Mouse ID', 'Timepoint'])\n",
    "tumor_by_treatment = merge_mouse[['Mouse ID', 'Tumor Volume (mm3)']]\n",
    "merge_mouse.head(10)\n"
   ]
  },
  {
   "cell_type": "code",
   "execution_count": null,
   "metadata": {},
   "outputs": [],
   "source": [
    "# Generate a bar plot showing the total number of mice for each treatment throughout the course of the study using pandas. \n",
    "#treatment = clean_data.groupby('Drug Regimen')['Mouse ID'].count().reset_index()\n",
    "count_by_treatment = clean_data.groupby('Drug Regimen')['Mouse ID'].count().reset_index()\n",
    "treatments = count_by_treatment.iloc[:, 0]\n",
    "treatment_counts = count_by_treatment.iloc[:, 1]\n",
    "\n",
    "treatment_summary = plt.bar(treatments, treatment_counts, color='r', alpha=0.5, align='center')\n",
    "plt.title('Counts by Treatment')\n",
    "plt.xlabel('Drug Regimen')\n",
    "plt.xticks(rotation='vertical')\n",
    "plt.ylabel('Count')\n",
    "plt.ylim(min(treatment_counts) - 10, max(treatment_counts) + 10)"
   ]
  },
  {
   "cell_type": "code",
   "execution_count": null,
   "metadata": {},
   "outputs": [],
   "source": [
    "# Generate a pie plot showing the distribution of female versus male mice using pandas\n",
    "colors = ['pink', 'blue']\n",
    "genders = clean_data.groupby('Sex')['Mouse ID'].nunique().reset_index()\n",
    "plt.pie(genders['Mouse ID'], labels = genders['Sex'], colors=colors, autopct='%1.1f%%', startangle=90)"
   ]
  },
  {
   "cell_type": "markdown",
   "metadata": {},
   "source": [
    "## Quartiles, Outliers and Boxplots"
   ]
  },
  {
   "cell_type": "code",
   "execution_count": null,
   "metadata": {
    "tags": []
   },
   "outputs": [],
   "source": [
    "capomulin = []\n",
    "ramicane = []\n",
    "infubinol = []\n",
    "ceftamin = []\n",
    "all_drugs = []\n",
    "\n",
    "for i in range(len(merge_mouse)):\n",
    "    if merge_mouse['Drug Regimen'][i] == 'Capomulin':\n",
    "        capomulin.append(merge_mouse['Tumor Volume (mm3)'][i])\n",
    "        all_drugs.append(merge_mouse['Tumor Volume (mm3)'][i])\n",
    "    if merge_mouse['Drug Regimen'][i] == 'Ramicane':\n",
    "        ramicane.append(merge_mouse['Tumor Volume (mm3)'][i])\n",
    "        all_drugs.append(merge_mouse['Tumor Volume (mm3)'][i])\n",
    "    if merge_mouse['Drug Regimen'][i] == 'Infubinol':\n",
    "        infubinol.append(merge_mouse['Tumor Volume (mm3)'][i])\n",
    "        all_drugs.append(merge_mouse['Tumor Volume (mm3)'][i])\n",
    "    if merge_mouse['Drug Regimen'][i] == 'Ceftamin':\n",
    "        ceftamin.append(merge_mouse['Tumor Volume (mm3)'][i])\n",
    "        all_drugs.append(merge_mouse['Tumor Volume (mm3)'][i])\n",
    "\n",
    "list_all = [capomulin, ramicane, infubinol, ceftamin]"
   ]
  },
  {
   "cell_type": "code",
   "execution_count": null,
   "metadata": {
    "tags": []
   },
   "outputs": [],
   "source": [
    "# Calculate the IQR and quantitatively determine if there are any potential outliers. \n",
    "quartiles = pd.Series(tumor_vol_data).quantile([0.25, 0.5, 0.75])\n",
    "lowerq = quartiles[0.25]\n",
    "upperq = quartiles[0.75]\n",
    "iqr = upperq - lowerq\n",
    "print(iqr)"
   ]
  },
  {
   "cell_type": "code",
   "execution_count": null,
   "metadata": {},
   "outputs": [],
   "source": [
    "# Generate a box plot of the final tumor volume of each mouse across four regimens of interest\n",
    "fig1, ax1 = plt.subplots()\n",
    "ax1.boxplot([list_all[0], list_all[1], list_all[2], list_all[3]])"
   ]
  },
  {
   "cell_type": "markdown",
   "metadata": {},
   "source": [
    "## Line and Scatter Plots"
   ]
  },
  {
   "cell_type": "code",
   "execution_count": null,
   "metadata": {},
   "outputs": [],
   "source": [
    "# Generate a line plot of time point versus tumor volume for a mouse treated with Capomulin\n",
    "capomulin = dataset[dataset['Drug Regimen'] == 'Capomulin']\n",
    "\n",
    "capomulin_time_df = capomulin[['Timepoint', 'Tumor Volume (mm3)']].groupby(capomulin['Timepoint']).mean()\n",
    "capomulin_time = capomulin_time_df['Timepoint']\n",
    "capomulin_tumor = capomulin_time_df['Tumor Volume (mm3)']\n",
    "\n",
    "plt.plot(capomulin_time, capomulin_tumor)\n",
    "plt.title('Capomulin Tumor Volume Over Time')\n",
    "plt.xlabel('Timepoint')\n",
    "plt.ylabel('Tumor Volume (mm3)')"
   ]
  },
  {
   "cell_type": "code",
   "execution_count": null,
   "metadata": {},
   "outputs": [],
   "source": [
    "# Generate a scatter plot of mouse weight versus average tumor volume for the Capomulin regimen\n",
    "capomulin_weight_df = capomulin[['Weight (g)', 'Tumor Volume (mm3)']].groupby(capomulin['Weight (g)']).mean()\n",
    "capomulin_weight = capomulin_weight_df['Weight (g)']\n",
    "capomulin_tumor = capomulin_weight_df['Tumor Volume (mm3)']\n",
    "\n",
    "plt.scatter(capomulin_weight, capomulin_tumor)\n",
    "plt.title('Capomulin Tumor Volume by Weight')\n",
    "plt.xlabel('Weight (g)')\n",
    "plt.ylabel('Tumor Volume (mm3)')"
   ]
  },
  {
   "cell_type": "markdown",
   "metadata": {},
   "source": [
    "## Correlation and Regression"
   ]
  },
  {
   "cell_type": "code",
   "execution_count": null,
   "metadata": {},
   "outputs": [],
   "source": [
    "# Calculate the correlation coefficient and linear regression model \n",
    "# for mouse weight and average tumor volume for the Capomulin regimen\n",
    "\n",
    "(slope, intercept, rvalue, pvalue, stderr) = st.linregress(capomulin_weight, capomulin_tumor)\n",
    "regress_values = capomulin_weight * slope + intercept\n",
    "line_eq = \"y = \" + str(round(slope,2)) + \"x + \" + str(round(intercept,2))\n",
    "plt.scatter(capomulin_weight, capomulin_tumor)\n",
    "plt.plot(capomulin_weight,regress_values,\"r-\")\n",
    "plt.annotate(line_eq,(20,40),fontsize=15,color=\"red\")\n",
    "plt.title('Capomulin Tumor Volume by Weight')\n",
    "plt.xlabel('Weight (g)')\n",
    "plt.ylabel('Tumor Volume (mm3)')\n",
    "plt.show()"
   ]
  },
  {
   "cell_type": "code",
   "execution_count": null,
   "metadata": {},
   "outputs": [],
   "source": []
  }
 ],
 "metadata": {
  "anaconda-cloud": {},
  "kernelspec": {
   "display_name": "Python 3",
   "language": "python",
   "name": "python3"
  },
  "language_info": {
   "codemirror_mode": {
    "name": "ipython",
    "version": 3
   },
   "file_extension": ".py",
   "mimetype": "text/x-python",
   "name": "python",
   "nbconvert_exporter": "python",
   "pygments_lexer": "ipython3",
   "version": "3.6.10-final"
  }
 },
 "nbformat": 4,
 "nbformat_minor": 2
}